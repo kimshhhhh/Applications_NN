{
 "cells": [
  {
   "cell_type": "code",
   "execution_count": 2,
   "metadata": {},
   "outputs": [],
   "source": [
    "# import general modules\n",
    "import os\n",
    "import copy\n",
    "\n",
    "import torch\n",
    "import numpy as np\n",
    "import pandas as pd\n",
    "import matplotlib.pyplot as plt\n",
    "\n",
    "%matplotlib inline"
   ]
  },
  {
   "cell_type": "code",
   "execution_count": 3,
   "metadata": {},
   "outputs": [
    {
     "data": {
      "text/plain": [
       "device(type='mps', index=0)"
      ]
     },
     "execution_count": 3,
     "metadata": {},
     "output_type": "execute_result"
    }
   ],
   "source": [
    "device = torch.device('mps:0' if torch.backends.mps.is_available() else 'cpu')\n",
    "device"
   ]
  },
  {
   "cell_type": "markdown",
   "metadata": {},
   "source": [
    "## Loading Data"
   ]
  },
  {
   "cell_type": "code",
   "execution_count": 1,
   "metadata": {},
   "outputs": [],
   "source": [
    "import mne\n",
    "from mne.datasets import eegbci\n",
    "\n",
    "mne.set_log_level('ERROR')  # To avoid flooding the cell outputs with messages"
   ]
  },
  {
   "cell_type": "code",
   "execution_count": null,
   "metadata": {},
   "outputs": [],
   "source": [
    "# EEG Motor Movement/Imagery Dataset\n",
    "# https://physionet.org/content/eegmmidb/1.0.0/\n",
    "#\n",
    "#\n",
    "# This data set consists of over 1500 one- and two-minute EEG recordings,\n",
    "# obtained from 109 volunteers.\n",
    "#\n",
    "# Subjects performed different motor/imagery tasks while 64-channel EEG were\n",
    "# recorded using the BCI2000 system (http://www.bci2000.org).\n",
    "#\n",
    "# In summary, the experimental runs were:\n",
    "# - (Baseline, eyes open)                                 ---> 1\n",
    "# - (Baseline, eyes closed)                               ---> 2\n",
    "# - (open and close the left or right fist)               ---> 3,7,11\n",
    "# - (imagine opening and closing the left or right fist)  ---> 4,8,12\n",
    "# - (open and close both fists or both feet)              ---> 5,9,13\n",
    "# - (imagine opening and closing both fists or both feet) ---> 6,10,14\n",
    "#\n",
    "# Each annotation includes one of three codes of events (T0=1, T1=2, or T2=3):\n",
    "# - T0 corresponds to rest\n",
    "# - T1 corresponds to onset of motion (real or imagined) of\n",
    "#     > the left fist (in runs 3, 4, 7, 8, 11, and 12)\n",
    "#     > both fists (in runs 5, 6, 9, 10, 13, and 14)\n",
    "# - T2 corresponds to onset of motion (real or imagined) of\n",
    "#     > the right fist (in runs 3, 4, 7, 8, 11, and 12)\n",
    "#     > both feet (in runs 5, 6, 9, 10, 13, and 14)\n",
    "################################################################################"
   ]
  }
 ],
 "metadata": {
  "kernelspec": {
   "display_name": "Python 3",
   "language": "python",
   "name": "python3"
  },
  "language_info": {
   "codemirror_mode": {
    "name": "ipython",
    "version": 3
   },
   "file_extension": ".py",
   "mimetype": "text/x-python",
   "name": "python",
   "nbconvert_exporter": "python",
   "pygments_lexer": "ipython3",
   "version": "3.10.12"
  },
  "orig_nbformat": 4
 },
 "nbformat": 4,
 "nbformat_minor": 2
}
